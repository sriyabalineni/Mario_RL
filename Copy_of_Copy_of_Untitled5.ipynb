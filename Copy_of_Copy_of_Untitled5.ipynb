{
  "nbformat": 4,
  "nbformat_minor": 0,
  "metadata": {
    "colab": {
      "name": "Copy of Copy of Untitled5.ipynb",
      "provenance": [],
      "collapsed_sections": [],
      "toc_visible": true,
      "authorship_tag": "ABX9TyPKf9qj9JOSQM410x4mcQOP",
      "include_colab_link": true
    },
    "kernelspec": {
      "name": "python3",
      "display_name": "Python 3"
    },
    "language_info": {
      "name": "python"
    },
    "accelerator": "GPU"
  },
  "cells": [
    {
      "cell_type": "markdown",
      "metadata": {
        "id": "view-in-github",
        "colab_type": "text"
      },
      "source": [
        "<a href=\"https://colab.research.google.com/github/sriyabalineni/Mario_RL/blob/main/Copy_of_Copy_of_Untitled5.ipynb\" target=\"_parent\"><img src=\"https://colab.research.google.com/assets/colab-badge.svg\" alt=\"Open In Colab\"/></a>"
      ]
    },
    {
      "cell_type": "code",
      "execution_count": null,
      "metadata": {
        "colab": {
          "base_uri": "https://localhost:8080/",
          "height": 546
        },
        "id": "kqfEQTlMzldZ",
        "outputId": "e2b40366-6a28-4870-8ec1-2a70ec67f7e2"
      },
      "outputs": [
        {
          "output_type": "stream",
          "name": "stdout",
          "text": [
            "2 --\n",
            "{2: (8.0, 1.0540925533894598)}\n",
            "None\n",
            "3 --\n",
            "{2: (8.0, 1.0540925533894598), 3: (50.8, 13.451146171733223)}\n",
            "None\n",
            "4 --\n",
            "{2: (8.0, 1.0540925533894598), 3: (50.8, 13.451146171733223), 4: (338.2, 35.2623500823943)}\n",
            "None\n",
            "5 --\n",
            "{2: (8.0, 1.0540925533894598), 3: (50.8, 13.451146171733223), 4: (338.2, 35.2623500823943), 5: (2353.2, 142.1604727060233)}\n",
            "None\n",
            "6 --\n",
            "{2: (8.0, 1.0540925533894598), 3: (50.8, 13.451146171733223), 4: (338.2, 35.2623500823943), 5: (2353.2, 142.1604727060233), 6: (16392.6, 1519.9606756609053)}\n",
            "None\n",
            "7 --\n"
          ]
        },
        {
          "output_type": "error",
          "ename": "KeyboardInterrupt",
          "evalue": "ignored",
          "traceback": [
            "\u001b[0;31m---------------------------------------------------------------------------\u001b[0m",
            "\u001b[0;31mKeyboardInterrupt\u001b[0m                         Traceback (most recent call last)",
            "\u001b[0;32m<ipython-input-3-5bc2ca6ae204>\u001b[0m in \u001b[0;36m<module>\u001b[0;34m()\u001b[0m\n\u001b[1;32m     23\u001b[0m             \u001b[0mA\u001b[0m\u001b[0;34m[\u001b[0m\u001b[0mk\u001b[0m\u001b[0;34m]\u001b[0m\u001b[0;34m,\u001b[0m \u001b[0mA\u001b[0m\u001b[0;34m[\u001b[0m\u001b[0mref\u001b[0m\u001b[0;34m]\u001b[0m\u001b[0;34m=\u001b[0m\u001b[0mA\u001b[0m\u001b[0;34m[\u001b[0m\u001b[0mref\u001b[0m\u001b[0;34m]\u001b[0m\u001b[0;34m,\u001b[0m \u001b[0mA\u001b[0m\u001b[0;34m[\u001b[0m\u001b[0mk\u001b[0m\u001b[0;34m]\u001b[0m\u001b[0;34m\u001b[0m\u001b[0;34m\u001b[0m\u001b[0m\n\u001b[1;32m     24\u001b[0m             \u001b[0mmodified_A\u001b[0m\u001b[0;34m=\u001b[0m \u001b[0;34m[\u001b[0m\u001b[0;34m]\u001b[0m\u001b[0;34m+\u001b[0m\u001b[0mA\u001b[0m\u001b[0;34m\u001b[0m\u001b[0;34m\u001b[0m\u001b[0m\n\u001b[0;32m---> 25\u001b[0;31m             \u001b[0;32mif\u001b[0m \u001b[0mA\u001b[0m \u001b[0;32mnot\u001b[0m \u001b[0;32min\u001b[0m \u001b[0mset_perms\u001b[0m\u001b[0;34m:\u001b[0m\u001b[0;34m\u001b[0m\u001b[0;34m\u001b[0m\u001b[0m\n\u001b[0m\u001b[1;32m     26\u001b[0m                 \u001b[0mset_perms\u001b[0m\u001b[0;34m.\u001b[0m\u001b[0mappend\u001b[0m\u001b[0;34m(\u001b[0m\u001b[0mmodified_A\u001b[0m\u001b[0;34m)\u001b[0m\u001b[0;34m\u001b[0m\u001b[0;34m\u001b[0m\u001b[0m\n\u001b[1;32m     27\u001b[0m             \u001b[0mk\u001b[0m\u001b[0;34m=\u001b[0m\u001b[0mk\u001b[0m\u001b[0;34m+\u001b[0m\u001b[0;36m1\u001b[0m\u001b[0;34m\u001b[0m\u001b[0;34m\u001b[0m\u001b[0m\n",
            "\u001b[0;31mKeyboardInterrupt\u001b[0m: "
          ]
        }
      ],
      "source": [
        "import random\n",
        "from math import factorial\n",
        "import math\n",
        "import statistics\n",
        "dict_numbers={}\n",
        "for i in range(2, 12):\n",
        "    print(i,'--')\n",
        "    start_iter=0\n",
        "    list_iterations=[]\n",
        "    A=[j for j in range(1,i+1)]\n",
        "    n=len(A)\n",
        "    fact=factorial(n)\n",
        "    for times in range(0,10):\n",
        "        seed_ref= random.randint(10,100)\n",
        "        random.seed(seed_ref)\n",
        "        set_perms=[]\n",
        "        k=0\n",
        "        count=0\n",
        "        while len(set_perms)<fact:\n",
        "            count=count+1\n",
        "            ref=random.randint(k, n-1)\n",
        "            #print(ref)\n",
        "            A[k], A[ref]=A[ref], A[k]\n",
        "            modified_A= []+A\n",
        "            if A not in set_perms:\n",
        "                set_perms.append(modified_A)\n",
        "            k=k+1\n",
        "            if k>=len(A):\n",
        "                k=0\n",
        "        #print(count)\n",
        "        start_iter+=count\n",
        "        list_iterations.append(count)   \n",
        "        \n",
        "    avergae_itertion= float(float(start_iter)/5)\n",
        "    sd= math.sqrt(statistics.variance(list_iterations))\n",
        "    #print(avergae_itertion, 'for', i, 'average iterations')\n",
        "    #print(sd, 'for', i, 'standard deviation')\n",
        "    dict_numbers[i]=(avergae_itertion,sd)\n",
        "    print(print(dict_numbers))\n",
        "print(dict_numbers)\n",
        "\n",
        "    "
      ]
    },
    {
      "cell_type": "code",
      "source": [
        "import random\n",
        "from math import factorial\n",
        "import math\n",
        "import statistics\n",
        "dict_numbers={}\n",
        "for i in range(2, 12):\n",
        "    start_iter=0\n",
        "    list_iterations=[]\n",
        "    A=[j for j in range(1,i+1)]\n",
        "    n=len(A)\n",
        "    fact=factorial(n)\n",
        "    for times in range(0,10):\n",
        "        seed_ref= random.randint(10,100)\n",
        "        random.seed(seed_ref)\n",
        "        set_perms=[]\n",
        "        k=0\n",
        "        count=0\n",
        "        while len(set_perms)<fact:\n",
        "            count=count+1\n",
        "            ref=random.randint(k, n-1)\n",
        "            #print(ref)\n",
        "            A[k], A[ref]=A[ref], A[k]\n",
        "            modified_A= []+A\n",
        "            if A not in set_perms:\n",
        "                set_perms.append(modified_A)\n",
        "            k=k+1\n",
        "            if k>=len(A):\n",
        "                k=0\n",
        "        start_iter+=count\n",
        "        list_iterations.append(count)   \n",
        "    avergae_itertion= float(float(start_iter)/5)\n",
        "    sd= math.sqrt(statistics.variance(list_iterations))\n",
        "    dict_numbers[i]=(avergae_itertion,sd)\n",
        "    print(dict_numbers)\n",
        "print(dict_numbers)\n",
        "import matplotlib.pyplot as plt\n",
        "x = [i for i in range(2,12)] \n",
        "y = [value[1] for key, value in dict_numbers.items()] \n",
        "plt.plot(x, y)\n",
        "plt.title(\"Line Chart\")\n",
        "plt.show()\n",
        "\n",
        "    "
      ],
      "metadata": {
        "colab": {
          "base_uri": "https://localhost:8080/"
        },
        "id": "Id_nudrdz7uy",
        "outputId": "d460059b-ba30-4e27-b92d-ff27346a80d7"
      },
      "execution_count": null,
      "outputs": [
        {
          "output_type": "stream",
          "name": "stdout",
          "text": [
            "{2: (8.4, 1.398411797560202)}\n",
            "{2: (8.4, 1.398411797560202), 3: (69.6, 13.693469652031625)}\n",
            "{2: (8.4, 1.398411797560202), 3: (69.6, 13.693469652031625), 4: (285.0, 25.600564229893234)}\n",
            "{2: (8.4, 1.398411797560202), 3: (69.6, 13.693469652031625), 4: (285.0, 25.600564229893234), 5: (2591.6, 380.37461067274774)}\n",
            "{2: (8.4, 1.398411797560202), 3: (69.6, 13.693469652031625), 4: (285.0, 25.600564229893234), 5: (2591.6, 380.37461067274774), 6: (16392.6, 1519.9606756609053)}\n",
            "{2: (8.4, 1.398411797560202), 3: (69.6, 13.693469652031625), 4: (285.0, 25.600564229893234), 5: (2591.6, 380.37461067274774), 6: (16392.6, 1519.9606756609053), 7: (151734.8, 12777.249166650334)}\n"
          ]
        }
      ]
    },
    {
      "cell_type": "code",
      "source": [
        ""
      ],
      "metadata": {
        "id": "68PLVnBW2zvD",
        "colab": {
          "base_uri": "https://localhost:8080/",
          "height": 240
        },
        "outputId": "8c874cf7-2242-417c-88c6-3a9806a94af9"
      },
      "execution_count": null,
      "outputs": [
        {
          "output_type": "error",
          "ename": "NameError",
          "evalue": "ignored",
          "traceback": [
            "\u001b[0;31m---------------------------------------------------------------------------\u001b[0m",
            "\u001b[0;31mNameError\u001b[0m                                 Traceback (most recent call last)",
            "\u001b[0;32m<ipython-input-1-1442f7f29a9c>\u001b[0m in \u001b[0;36m<module>\u001b[0;34m()\u001b[0m\n\u001b[1;32m      1\u001b[0m \u001b[0;32mimport\u001b[0m \u001b[0mmatplotlib\u001b[0m\u001b[0;34m.\u001b[0m\u001b[0mpyplot\u001b[0m \u001b[0;32mas\u001b[0m \u001b[0mplt\u001b[0m\u001b[0;34m\u001b[0m\u001b[0;34m\u001b[0m\u001b[0m\n\u001b[1;32m      2\u001b[0m \u001b[0mx\u001b[0m \u001b[0;34m=\u001b[0m \u001b[0;34m[\u001b[0m\u001b[0mi\u001b[0m \u001b[0;32mfor\u001b[0m \u001b[0mi\u001b[0m \u001b[0;32min\u001b[0m \u001b[0mrange\u001b[0m\u001b[0;34m(\u001b[0m\u001b[0;36m2\u001b[0m\u001b[0;34m,\u001b[0m\u001b[0;36m12\u001b[0m\u001b[0;34m)\u001b[0m\u001b[0;34m]\u001b[0m\u001b[0;34m\u001b[0m\u001b[0;34m\u001b[0m\u001b[0m\n\u001b[0;32m----> 3\u001b[0;31m \u001b[0my\u001b[0m \u001b[0;34m=\u001b[0m \u001b[0;34m[\u001b[0m\u001b[0mvalue\u001b[0m\u001b[0;34m[\u001b[0m\u001b[0;36m1\u001b[0m\u001b[0;34m]\u001b[0m \u001b[0;32mfor\u001b[0m \u001b[0mkey\u001b[0m\u001b[0;34m,\u001b[0m \u001b[0mvalue\u001b[0m \u001b[0;32min\u001b[0m \u001b[0mdict_numbers\u001b[0m\u001b[0;34m.\u001b[0m\u001b[0mitems\u001b[0m\u001b[0;34m(\u001b[0m\u001b[0;34m)\u001b[0m\u001b[0;34m]\u001b[0m\u001b[0;34m\u001b[0m\u001b[0;34m\u001b[0m\u001b[0m\n\u001b[0m\u001b[1;32m      4\u001b[0m \u001b[0mplt\u001b[0m\u001b[0;34m.\u001b[0m\u001b[0mplot\u001b[0m\u001b[0;34m(\u001b[0m\u001b[0mx\u001b[0m\u001b[0;34m,\u001b[0m \u001b[0my\u001b[0m\u001b[0;34m)\u001b[0m\u001b[0;34m\u001b[0m\u001b[0;34m\u001b[0m\u001b[0m\n\u001b[1;32m      5\u001b[0m \u001b[0mplt\u001b[0m\u001b[0;34m.\u001b[0m\u001b[0mtitle\u001b[0m\u001b[0;34m(\u001b[0m\u001b[0;34m\"Line Chart\"\u001b[0m\u001b[0;34m)\u001b[0m\u001b[0;34m\u001b[0m\u001b[0;34m\u001b[0m\u001b[0m\n",
            "\u001b[0;31mNameError\u001b[0m: name 'dict_numbers' is not defined"
          ]
        }
      ]
    }
  ]
}